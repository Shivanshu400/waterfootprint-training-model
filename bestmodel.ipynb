{
 "cells": [
  {
   "cell_type": "code",
   "execution_count": 1,
   "id": "6347649f-2f66-40d2-a468-11713692886d",
   "metadata": {},
   "outputs": [],
   "source": [
    "import pandas as pd"
   ]
  },
  {
   "cell_type": "code",
   "execution_count": 2,
   "id": "e0b5cc34-2589-4f9b-bc6b-4e6a7ee68e5c",
   "metadata": {},
   "outputs": [],
   "source": [
    "import numpy as np"
   ]
  },
  {
   "cell_type": "code",
   "execution_count": 3,
   "id": "1271d8a6-b8c9-41ea-accf-94899d3ac796",
   "metadata": {},
   "outputs": [
    {
     "data": {
      "text/html": [
       "<div>\n",
       "<style scoped>\n",
       "    .dataframe tbody tr th:only-of-type {\n",
       "        vertical-align: middle;\n",
       "    }\n",
       "\n",
       "    .dataframe tbody tr th {\n",
       "        vertical-align: top;\n",
       "    }\n",
       "\n",
       "    .dataframe thead th {\n",
       "        text-align: right;\n",
       "    }\n",
       "</style>\n",
       "<table border=\"1\" class=\"dataframe\">\n",
       "  <thead>\n",
       "    <tr style=\"text-align: right;\">\n",
       "      <th></th>\n",
       "      <th>id</th>\n",
       "      <th>name</th>\n",
       "      <th>ingredients</th>\n",
       "      <th>qt</th>\n",
       "      <th>wf</th>\n",
       "    </tr>\n",
       "  </thead>\n",
       "  <tbody>\n",
       "    <tr>\n",
       "      <th>0</th>\n",
       "      <td>137739</td>\n",
       "      <td>arriba   baked winter squash mexican style</td>\n",
       "      <td>['winter squash', 'mexican', '', 'honey', 'but...</td>\n",
       "      <td>[453.5, 5.0, 5.0, 5.0, 5.0, 5.0, 5.0]</td>\n",
       "      <td>350.29</td>\n",
       "    </tr>\n",
       "    <tr>\n",
       "      <th>1</th>\n",
       "      <td>31490</td>\n",
       "      <td>a bit different  breakfast pizza</td>\n",
       "      <td>['pizza', 'sausage patti', 'egg', 'milk', 'sal...</td>\n",
       "      <td>[100.0, 500.0, 111.0, 5.0, 5.0, 5.0]</td>\n",
       "      <td>2030.02</td>\n",
       "    </tr>\n",
       "    <tr>\n",
       "      <th>2</th>\n",
       "      <td>112140</td>\n",
       "      <td>all in the kitchen  chili</td>\n",
       "      <td>['beef', 'onion', 'tomato', 'tomato past', 'to...</td>\n",
       "      <td>[907.0, 80.0, 35.0, 15.0, 500.0, 5.0, 5.0, 5.0...</td>\n",
       "      <td>14195.34</td>\n",
       "    </tr>\n",
       "    <tr>\n",
       "      <th>3</th>\n",
       "      <td>59389</td>\n",
       "      <td>alouette  potatoes</td>\n",
       "      <td>['spreadable cheese garlic herb', 'potato', 's...</td>\n",
       "      <td>[500.0, 12.0, 500.0, 10.0, 5.0, 5.0, 5.0, 5.0,...</td>\n",
       "      <td>1150.33</td>\n",
       "    </tr>\n",
       "    <tr>\n",
       "      <th>4</th>\n",
       "      <td>44061</td>\n",
       "      <td>amish  tomato ketchup  for canning</td>\n",
       "      <td>['tomato juic', 'apple cider vinegar', 'sugar'...</td>\n",
       "      <td>[90.0, 473.0, 948.0, 5.0, 5.0, 5.0, 5.0, 5.0]</td>\n",
       "      <td>1616.62</td>\n",
       "    </tr>\n",
       "    <tr>\n",
       "      <th>...</th>\n",
       "      <td>...</td>\n",
       "      <td>...</td>\n",
       "      <td>...</td>\n",
       "      <td>...</td>\n",
       "      <td>...</td>\n",
       "    </tr>\n",
       "    <tr>\n",
       "      <th>230543</th>\n",
       "      <td>197449</td>\n",
       "      <td>mom s christmas breakfast  make ahead</td>\n",
       "      <td>['bread', 'sharp dar chees', 'smokies sausag',...</td>\n",
       "      <td>[2400.0, 711.0, 453.5, 185.0, 5.0, 5.0, 5.0]</td>\n",
       "      <td>5479.45</td>\n",
       "    </tr>\n",
       "    <tr>\n",
       "      <th>230544</th>\n",
       "      <td>49321</td>\n",
       "      <td>mom s christmas carrot pudding</td>\n",
       "      <td>['carrot', 'potato', 'appl', 'sugar', 'raisin'...</td>\n",
       "      <td>[237.0, 237.0, 237.0, 237.0, 237.0, 5.0, 5.0, ...</td>\n",
       "      <td>1735.93</td>\n",
       "    </tr>\n",
       "    <tr>\n",
       "      <th>230545</th>\n",
       "      <td>342144</td>\n",
       "      <td>mom s chuck roast   my favorite</td>\n",
       "      <td>['chuck', 'kitchen bouquet', 'garlic clov', 'o...</td>\n",
       "      <td>[1360.5, 500.0, 500.0, 2.0, 5.0, 5.0, 5.0, 5.0]</td>\n",
       "      <td>2012.58</td>\n",
       "    </tr>\n",
       "    <tr>\n",
       "      <th>230546</th>\n",
       "      <td>53946</td>\n",
       "      <td>mom s chuckwagon beans</td>\n",
       "      <td>['beef', 'onion', 'bacon', 'northern bean', 'k...</td>\n",
       "      <td>[453.5, 80.0, 12.0, 500.0, 5.0, 5.0, 5.0, 5.0,...</td>\n",
       "      <td>7485.53</td>\n",
       "    </tr>\n",
       "    <tr>\n",
       "      <th>230547</th>\n",
       "      <td>99997</td>\n",
       "      <td>mom s cinnamon cake with zucchini</td>\n",
       "      <td>['zucchini', 'sugar', 'oil', 'egg', 'flour', '...</td>\n",
       "      <td>[711.0, 711.0, 237.0, 148.0, 711.0, 5.0, 5.0, ...</td>\n",
       "      <td>5351.88</td>\n",
       "    </tr>\n",
       "  </tbody>\n",
       "</table>\n",
       "<p>230548 rows × 5 columns</p>\n",
       "</div>"
      ],
      "text/plain": [
       "            id                                        name  \\\n",
       "0       137739  arriba   baked winter squash mexican style   \n",
       "1        31490            a bit different  breakfast pizza   \n",
       "2       112140                   all in the kitchen  chili   \n",
       "3        59389                          alouette  potatoes   \n",
       "4        44061          amish  tomato ketchup  for canning   \n",
       "...        ...                                         ...   \n",
       "230543  197449       mom s christmas breakfast  make ahead   \n",
       "230544   49321              mom s christmas carrot pudding   \n",
       "230545  342144             mom s chuck roast   my favorite   \n",
       "230546   53946                      mom s chuckwagon beans   \n",
       "230547   99997           mom s cinnamon cake with zucchini   \n",
       "\n",
       "                                              ingredients  \\\n",
       "0       ['winter squash', 'mexican', '', 'honey', 'but...   \n",
       "1       ['pizza', 'sausage patti', 'egg', 'milk', 'sal...   \n",
       "2       ['beef', 'onion', 'tomato', 'tomato past', 'to...   \n",
       "3       ['spreadable cheese garlic herb', 'potato', 's...   \n",
       "4       ['tomato juic', 'apple cider vinegar', 'sugar'...   \n",
       "...                                                   ...   \n",
       "230543  ['bread', 'sharp dar chees', 'smokies sausag',...   \n",
       "230544  ['carrot', 'potato', 'appl', 'sugar', 'raisin'...   \n",
       "230545  ['chuck', 'kitchen bouquet', 'garlic clov', 'o...   \n",
       "230546  ['beef', 'onion', 'bacon', 'northern bean', 'k...   \n",
       "230547  ['zucchini', 'sugar', 'oil', 'egg', 'flour', '...   \n",
       "\n",
       "                                                       qt        wf  \n",
       "0                   [453.5, 5.0, 5.0, 5.0, 5.0, 5.0, 5.0]    350.29  \n",
       "1                    [100.0, 500.0, 111.0, 5.0, 5.0, 5.0]   2030.02  \n",
       "2       [907.0, 80.0, 35.0, 15.0, 500.0, 5.0, 5.0, 5.0...  14195.34  \n",
       "3       [500.0, 12.0, 500.0, 10.0, 5.0, 5.0, 5.0, 5.0,...   1150.33  \n",
       "4           [90.0, 473.0, 948.0, 5.0, 5.0, 5.0, 5.0, 5.0]   1616.62  \n",
       "...                                                   ...       ...  \n",
       "230543       [2400.0, 711.0, 453.5, 185.0, 5.0, 5.0, 5.0]   5479.45  \n",
       "230544  [237.0, 237.0, 237.0, 237.0, 237.0, 5.0, 5.0, ...   1735.93  \n",
       "230545    [1360.5, 500.0, 500.0, 2.0, 5.0, 5.0, 5.0, 5.0]   2012.58  \n",
       "230546  [453.5, 80.0, 12.0, 500.0, 5.0, 5.0, 5.0, 5.0,...   7485.53  \n",
       "230547  [711.0, 711.0, 237.0, 148.0, 711.0, 5.0, 5.0, ...   5351.88  \n",
       "\n",
       "[230548 rows x 5 columns]"
      ]
     },
     "execution_count": 3,
     "metadata": {},
     "output_type": "execute_result"
    }
   ],
   "source": [
    "df=pd.read_csv(\"recipes-checkpoint.csv\")\n",
    "df"
   ]
  },
  {
   "cell_type": "code",
   "execution_count": 4,
   "id": "2e27fd38-da61-4ab6-b741-93ab6dbd864b",
   "metadata": {},
   "outputs": [
    {
     "data": {
      "text/plain": [
       "id             0\n",
       "name           1\n",
       "ingredients    0\n",
       "qt             0\n",
       "wf             0\n",
       "dtype: int64"
      ]
     },
     "execution_count": 4,
     "metadata": {},
     "output_type": "execute_result"
    }
   ],
   "source": [
    "df.isnull().sum()"
   ]
  },
  {
   "cell_type": "code",
   "execution_count": 5,
   "id": "37285f22-0797-428e-93cd-0d1319fffbd2",
   "metadata": {},
   "outputs": [],
   "source": [
    "df=df.dropna()"
   ]
  },
  {
   "cell_type": "code",
   "execution_count": 6,
   "id": "1953e0ce-fdad-4f15-8ad0-44540999eb56",
   "metadata": {},
   "outputs": [
    {
     "data": {
      "text/html": [
       "<div>\n",
       "<style scoped>\n",
       "    .dataframe tbody tr th:only-of-type {\n",
       "        vertical-align: middle;\n",
       "    }\n",
       "\n",
       "    .dataframe tbody tr th {\n",
       "        vertical-align: top;\n",
       "    }\n",
       "\n",
       "    .dataframe thead th {\n",
       "        text-align: right;\n",
       "    }\n",
       "</style>\n",
       "<table border=\"1\" class=\"dataframe\">\n",
       "  <thead>\n",
       "    <tr style=\"text-align: right;\">\n",
       "      <th></th>\n",
       "      <th>id</th>\n",
       "      <th>name</th>\n",
       "      <th>ingredients</th>\n",
       "      <th>qt</th>\n",
       "      <th>wf</th>\n",
       "    </tr>\n",
       "  </thead>\n",
       "  <tbody>\n",
       "    <tr>\n",
       "      <th>0</th>\n",
       "      <td>137739</td>\n",
       "      <td>arriba   baked winter squash mexican style</td>\n",
       "      <td>['winter squash', 'mexican', '', 'honey', 'but...</td>\n",
       "      <td>[453.5, 5.0, 5.0, 5.0, 5.0, 5.0, 5.0]</td>\n",
       "      <td>350.29</td>\n",
       "    </tr>\n",
       "    <tr>\n",
       "      <th>1</th>\n",
       "      <td>31490</td>\n",
       "      <td>a bit different  breakfast pizza</td>\n",
       "      <td>['pizza', 'sausage patti', 'egg', 'milk', 'sal...</td>\n",
       "      <td>[100.0, 500.0, 111.0, 5.0, 5.0, 5.0]</td>\n",
       "      <td>2030.02</td>\n",
       "    </tr>\n",
       "    <tr>\n",
       "      <th>2</th>\n",
       "      <td>112140</td>\n",
       "      <td>all in the kitchen  chili</td>\n",
       "      <td>['beef', 'onion', 'tomato', 'tomato past', 'to...</td>\n",
       "      <td>[907.0, 80.0, 35.0, 15.0, 500.0, 5.0, 5.0, 5.0...</td>\n",
       "      <td>14195.34</td>\n",
       "    </tr>\n",
       "    <tr>\n",
       "      <th>3</th>\n",
       "      <td>59389</td>\n",
       "      <td>alouette  potatoes</td>\n",
       "      <td>['spreadable cheese garlic herb', 'potato', 's...</td>\n",
       "      <td>[500.0, 12.0, 500.0, 10.0, 5.0, 5.0, 5.0, 5.0,...</td>\n",
       "      <td>1150.33</td>\n",
       "    </tr>\n",
       "    <tr>\n",
       "      <th>4</th>\n",
       "      <td>44061</td>\n",
       "      <td>amish  tomato ketchup  for canning</td>\n",
       "      <td>['tomato juic', 'apple cider vinegar', 'sugar'...</td>\n",
       "      <td>[90.0, 473.0, 948.0, 5.0, 5.0, 5.0, 5.0, 5.0]</td>\n",
       "      <td>1616.62</td>\n",
       "    </tr>\n",
       "    <tr>\n",
       "      <th>...</th>\n",
       "      <td>...</td>\n",
       "      <td>...</td>\n",
       "      <td>...</td>\n",
       "      <td>...</td>\n",
       "      <td>...</td>\n",
       "    </tr>\n",
       "    <tr>\n",
       "      <th>230543</th>\n",
       "      <td>197449</td>\n",
       "      <td>mom s christmas breakfast  make ahead</td>\n",
       "      <td>['bread', 'sharp dar chees', 'smokies sausag',...</td>\n",
       "      <td>[2400.0, 711.0, 453.5, 185.0, 5.0, 5.0, 5.0]</td>\n",
       "      <td>5479.45</td>\n",
       "    </tr>\n",
       "    <tr>\n",
       "      <th>230544</th>\n",
       "      <td>49321</td>\n",
       "      <td>mom s christmas carrot pudding</td>\n",
       "      <td>['carrot', 'potato', 'appl', 'sugar', 'raisin'...</td>\n",
       "      <td>[237.0, 237.0, 237.0, 237.0, 237.0, 5.0, 5.0, ...</td>\n",
       "      <td>1735.93</td>\n",
       "    </tr>\n",
       "    <tr>\n",
       "      <th>230545</th>\n",
       "      <td>342144</td>\n",
       "      <td>mom s chuck roast   my favorite</td>\n",
       "      <td>['chuck', 'kitchen bouquet', 'garlic clov', 'o...</td>\n",
       "      <td>[1360.5, 500.0, 500.0, 2.0, 5.0, 5.0, 5.0, 5.0]</td>\n",
       "      <td>2012.58</td>\n",
       "    </tr>\n",
       "    <tr>\n",
       "      <th>230546</th>\n",
       "      <td>53946</td>\n",
       "      <td>mom s chuckwagon beans</td>\n",
       "      <td>['beef', 'onion', 'bacon', 'northern bean', 'k...</td>\n",
       "      <td>[453.5, 80.0, 12.0, 500.0, 5.0, 5.0, 5.0, 5.0,...</td>\n",
       "      <td>7485.53</td>\n",
       "    </tr>\n",
       "    <tr>\n",
       "      <th>230547</th>\n",
       "      <td>99997</td>\n",
       "      <td>mom s cinnamon cake with zucchini</td>\n",
       "      <td>['zucchini', 'sugar', 'oil', 'egg', 'flour', '...</td>\n",
       "      <td>[711.0, 711.0, 237.0, 148.0, 711.0, 5.0, 5.0, ...</td>\n",
       "      <td>5351.88</td>\n",
       "    </tr>\n",
       "  </tbody>\n",
       "</table>\n",
       "<p>230547 rows × 5 columns</p>\n",
       "</div>"
      ],
      "text/plain": [
       "            id                                        name  \\\n",
       "0       137739  arriba   baked winter squash mexican style   \n",
       "1        31490            a bit different  breakfast pizza   \n",
       "2       112140                   all in the kitchen  chili   \n",
       "3        59389                          alouette  potatoes   \n",
       "4        44061          amish  tomato ketchup  for canning   \n",
       "...        ...                                         ...   \n",
       "230543  197449       mom s christmas breakfast  make ahead   \n",
       "230544   49321              mom s christmas carrot pudding   \n",
       "230545  342144             mom s chuck roast   my favorite   \n",
       "230546   53946                      mom s chuckwagon beans   \n",
       "230547   99997           mom s cinnamon cake with zucchini   \n",
       "\n",
       "                                              ingredients  \\\n",
       "0       ['winter squash', 'mexican', '', 'honey', 'but...   \n",
       "1       ['pizza', 'sausage patti', 'egg', 'milk', 'sal...   \n",
       "2       ['beef', 'onion', 'tomato', 'tomato past', 'to...   \n",
       "3       ['spreadable cheese garlic herb', 'potato', 's...   \n",
       "4       ['tomato juic', 'apple cider vinegar', 'sugar'...   \n",
       "...                                                   ...   \n",
       "230543  ['bread', 'sharp dar chees', 'smokies sausag',...   \n",
       "230544  ['carrot', 'potato', 'appl', 'sugar', 'raisin'...   \n",
       "230545  ['chuck', 'kitchen bouquet', 'garlic clov', 'o...   \n",
       "230546  ['beef', 'onion', 'bacon', 'northern bean', 'k...   \n",
       "230547  ['zucchini', 'sugar', 'oil', 'egg', 'flour', '...   \n",
       "\n",
       "                                                       qt        wf  \n",
       "0                   [453.5, 5.0, 5.0, 5.0, 5.0, 5.0, 5.0]    350.29  \n",
       "1                    [100.0, 500.0, 111.0, 5.0, 5.0, 5.0]   2030.02  \n",
       "2       [907.0, 80.0, 35.0, 15.0, 500.0, 5.0, 5.0, 5.0...  14195.34  \n",
       "3       [500.0, 12.0, 500.0, 10.0, 5.0, 5.0, 5.0, 5.0,...   1150.33  \n",
       "4           [90.0, 473.0, 948.0, 5.0, 5.0, 5.0, 5.0, 5.0]   1616.62  \n",
       "...                                                   ...       ...  \n",
       "230543       [2400.0, 711.0, 453.5, 185.0, 5.0, 5.0, 5.0]   5479.45  \n",
       "230544  [237.0, 237.0, 237.0, 237.0, 237.0, 5.0, 5.0, ...   1735.93  \n",
       "230545    [1360.5, 500.0, 500.0, 2.0, 5.0, 5.0, 5.0, 5.0]   2012.58  \n",
       "230546  [453.5, 80.0, 12.0, 500.0, 5.0, 5.0, 5.0, 5.0,...   7485.53  \n",
       "230547  [711.0, 711.0, 237.0, 148.0, 711.0, 5.0, 5.0, ...   5351.88  \n",
       "\n",
       "[230547 rows x 5 columns]"
      ]
     },
     "execution_count": 6,
     "metadata": {},
     "output_type": "execute_result"
    }
   ],
   "source": [
    "df"
   ]
  },
  {
   "cell_type": "code",
   "execution_count": 7,
   "id": "00ce9ebc-f666-4628-91ab-faeba4cea966",
   "metadata": {},
   "outputs": [
    {
     "data": {
      "text/plain": [
       "id             0\n",
       "name           0\n",
       "ingredients    0\n",
       "qt             0\n",
       "wf             0\n",
       "dtype: int64"
      ]
     },
     "execution_count": 7,
     "metadata": {},
     "output_type": "execute_result"
    }
   ],
   "source": [
    "df.isnull().sum()"
   ]
  },
  {
   "cell_type": "code",
   "execution_count": 8,
   "id": "81e37384-4c98-4620-b065-f0ce452f6ed0",
   "metadata": {},
   "outputs": [
    {
     "name": "stderr",
     "output_type": "stream",
     "text": [
      "C:\\Users\\shubh\\AppData\\Local\\Temp\\ipykernel_8384\\3159346859.py:3: SettingWithCopyWarning: \n",
      "A value is trying to be set on a copy of a slice from a DataFrame.\n",
      "Try using .loc[row_indexer,col_indexer] = value instead\n",
      "\n",
      "See the caveats in the documentation: https://pandas.pydata.org/pandas-docs/stable/user_guide/indexing.html#returning-a-view-versus-a-copy\n",
      "  df['name'] = encoder.fit_transform(df[['name']])\n"
     ]
    }
   ],
   "source": [
    "from sklearn.preprocessing import OrdinalEncoder\n",
    "encoder = OrdinalEncoder()\n",
    "df['name'] = encoder.fit_transform(df[['name']])"
   ]
  },
  {
   "cell_type": "code",
   "execution_count": 9,
   "id": "38658712-4b21-4896-86a0-f6bb44f15ccb",
   "metadata": {},
   "outputs": [
    {
     "name": "stderr",
     "output_type": "stream",
     "text": [
      "C:\\Users\\shubh\\AppData\\Local\\Temp\\ipykernel_8384\\1157950787.py:2: SettingWithCopyWarning: \n",
      "A value is trying to be set on a copy of a slice from a DataFrame.\n",
      "Try using .loc[row_indexer,col_indexer] = value instead\n",
      "\n",
      "See the caveats in the documentation: https://pandas.pydata.org/pandas-docs/stable/user_guide/indexing.html#returning-a-view-versus-a-copy\n",
      "  df['ingredients'] = encoder.fit_transform(df[['ingredients']])\n"
     ]
    }
   ],
   "source": [
    "encoder = OrdinalEncoder()\n",
    "df['ingredients'] = encoder.fit_transform(df[['ingredients']])\n"
   ]
  },
  {
   "cell_type": "code",
   "execution_count": 10,
   "id": "31de2179-a302-4c6a-a113-00627149ed4e",
   "metadata": {},
   "outputs": [
    {
     "name": "stderr",
     "output_type": "stream",
     "text": [
      "C:\\Users\\shubh\\AppData\\Local\\Temp\\ipykernel_8384\\625780882.py:2: SettingWithCopyWarning: \n",
      "A value is trying to be set on a copy of a slice from a DataFrame.\n",
      "Try using .loc[row_indexer,col_indexer] = value instead\n",
      "\n",
      "See the caveats in the documentation: https://pandas.pydata.org/pandas-docs/stable/user_guide/indexing.html#returning-a-view-versus-a-copy\n",
      "  df['qt'] = encoder.fit_transform(df[['qt']])\n"
     ]
    }
   ],
   "source": [
    "encoder = OrdinalEncoder()\n",
    "df['qt'] = encoder.fit_transform(df[['qt']])\n"
   ]
  },
  {
   "cell_type": "code",
   "execution_count": 11,
   "id": "03622633-e1eb-439d-91b1-e66498935a4b",
   "metadata": {},
   "outputs": [
    {
     "data": {
      "text/html": [
       "<div>\n",
       "<style scoped>\n",
       "    .dataframe tbody tr th:only-of-type {\n",
       "        vertical-align: middle;\n",
       "    }\n",
       "\n",
       "    .dataframe tbody tr th {\n",
       "        vertical-align: top;\n",
       "    }\n",
       "\n",
       "    .dataframe thead th {\n",
       "        text-align: right;\n",
       "    }\n",
       "</style>\n",
       "<table border=\"1\" class=\"dataframe\">\n",
       "  <thead>\n",
       "    <tr style=\"text-align: right;\">\n",
       "      <th></th>\n",
       "      <th>id</th>\n",
       "      <th>name</th>\n",
       "      <th>ingredients</th>\n",
       "      <th>qt</th>\n",
       "      <th>wf</th>\n",
       "    </tr>\n",
       "  </thead>\n",
       "  <tbody>\n",
       "    <tr>\n",
       "      <th>0</th>\n",
       "      <td>137739</td>\n",
       "      <td>7881.0</td>\n",
       "      <td>223274.0</td>\n",
       "      <td>125340.0</td>\n",
       "      <td>350.29</td>\n",
       "    </tr>\n",
       "    <tr>\n",
       "      <th>1</th>\n",
       "      <td>31490</td>\n",
       "      <td>1177.0</td>\n",
       "      <td>170334.0</td>\n",
       "      <td>4705.0</td>\n",
       "      <td>2030.02</td>\n",
       "    </tr>\n",
       "    <tr>\n",
       "      <th>2</th>\n",
       "      <td>112140</td>\n",
       "      <td>2674.0</td>\n",
       "      <td>27691.0</td>\n",
       "      <td>195454.0</td>\n",
       "      <td>14195.34</td>\n",
       "    </tr>\n",
       "    <tr>\n",
       "      <th>3</th>\n",
       "      <td>59389</td>\n",
       "      <td>3481.0</td>\n",
       "      <td>200985.0</td>\n",
       "      <td>147969.0</td>\n",
       "      <td>1150.33</td>\n",
       "    </tr>\n",
       "    <tr>\n",
       "      <th>4</th>\n",
       "      <td>44061</td>\n",
       "      <td>4187.0</td>\n",
       "      <td>212265.0</td>\n",
       "      <td>189521.0</td>\n",
       "      <td>1616.62</td>\n",
       "    </tr>\n",
       "  </tbody>\n",
       "</table>\n",
       "</div>"
      ],
      "text/plain": [
       "       id    name  ingredients        qt        wf\n",
       "0  137739  7881.0     223274.0  125340.0    350.29\n",
       "1   31490  1177.0     170334.0    4705.0   2030.02\n",
       "2  112140  2674.0      27691.0  195454.0  14195.34\n",
       "3   59389  3481.0     200985.0  147969.0   1150.33\n",
       "4   44061  4187.0     212265.0  189521.0   1616.62"
      ]
     },
     "execution_count": 11,
     "metadata": {},
     "output_type": "execute_result"
    }
   ],
   "source": [
    "df.head()"
   ]
  },
  {
   "cell_type": "code",
   "execution_count": 12,
   "id": "00d5b7e3-def9-4055-9db4-cc03387d297b",
   "metadata": {},
   "outputs": [
    {
     "data": {
      "text/plain": [
       "id             0\n",
       "name           0\n",
       "ingredients    0\n",
       "qt             0\n",
       "wf             0\n",
       "dtype: int64"
      ]
     },
     "execution_count": 12,
     "metadata": {},
     "output_type": "execute_result"
    }
   ],
   "source": [
    "df.isnull().sum()"
   ]
  },
  {
   "cell_type": "code",
   "execution_count": 13,
   "id": "d5c743f1-8c42-4d78-aa64-3fb2272477df",
   "metadata": {},
   "outputs": [],
   "source": [
    "import pandas as pd\n",
    "from sklearn.pipeline import Pipeline\n",
    "from sklearn.ensemble import GradientBoostingRegressor\n",
    "from sklearn.ensemble import RandomForestRegressor\n",
    "from sklearn.preprocessing import StandardScaler\n",
    "from sklearn.model_selection import train_test_split\n",
    "from sklearn.impute import SimpleImputer\n",
    "from sklearn.metrics import r2_score\n",
    "from sklearn.linear_model import LinearRegression"
   ]
  },
  {
   "cell_type": "code",
   "execution_count": 14,
   "id": "1cbe49ab-52cf-4a45-a8b0-2f491e67fc81",
   "metadata": {},
   "outputs": [],
   "source": [
    "X  = df.iloc[:,:-1]\n",
    "Y = df.iloc[:,-1]\n"
   ]
  },
  {
   "cell_type": "code",
   "execution_count": 15,
   "id": "12efcfd3-e3d3-4c2c-81fc-89969e35ab27",
   "metadata": {},
   "outputs": [
    {
     "data": {
      "text/plain": [
       "(230547, 4)"
      ]
     },
     "execution_count": 15,
     "metadata": {},
     "output_type": "execute_result"
    }
   ],
   "source": [
    "X.shape"
   ]
  },
  {
   "cell_type": "code",
   "execution_count": 16,
   "id": "86dfa8d1-0cfd-4e8d-9de6-349de22030d6",
   "metadata": {},
   "outputs": [],
   "source": [
    "X_train, X_test, y_train, y_test = train_test_split(X, Y, test_size=0.20, random_state=42)"
   ]
  },
  {
   "cell_type": "code",
   "execution_count": 17,
   "id": "467a9a3e-ab43-4e1d-9352-db65f26ae898",
   "metadata": {},
   "outputs": [
    {
     "data": {
      "text/plain": [
       "(184437, 4)"
      ]
     },
     "execution_count": 17,
     "metadata": {},
     "output_type": "execute_result"
    }
   ],
   "source": [
    "X_train.shape"
   ]
  },
  {
   "cell_type": "code",
   "execution_count": 18,
   "id": "21a4db78-3292-4001-8624-99cb407ec97b",
   "metadata": {},
   "outputs": [
    {
     "data": {
      "text/plain": [
       "(46110, 4)"
      ]
     },
     "execution_count": 18,
     "metadata": {},
     "output_type": "execute_result"
    }
   ],
   "source": [
    "X_test.shape"
   ]
  },
  {
   "cell_type": "code",
   "execution_count": 19,
   "id": "91b0788f-bbd9-4032-9493-36da85afb3ce",
   "metadata": {},
   "outputs": [
    {
     "data": {
      "text/plain": [
       "(184437,)"
      ]
     },
     "execution_count": 19,
     "metadata": {},
     "output_type": "execute_result"
    }
   ],
   "source": [
    "y_train.shape"
   ]
  },
  {
   "cell_type": "code",
   "execution_count": 20,
   "id": "ed2dc4d8-a83d-4419-b2f1-26fd4081f7b1",
   "metadata": {},
   "outputs": [
    {
     "data": {
      "text/plain": [
       "(46110,)"
      ]
     },
     "execution_count": 20,
     "metadata": {},
     "output_type": "execute_result"
    }
   ],
   "source": [
    "y_test.shape"
   ]
  },
  {
   "cell_type": "code",
   "execution_count": 21,
   "id": "3bd9ecd2-744c-4715-9064-121a988b2988",
   "metadata": {},
   "outputs": [
    {
     "data": {
      "text/html": [
       "<style>#sk-container-id-1 {color: black;}#sk-container-id-1 pre{padding: 0;}#sk-container-id-1 div.sk-toggleable {background-color: white;}#sk-container-id-1 label.sk-toggleable__label {cursor: pointer;display: block;width: 100%;margin-bottom: 0;padding: 0.3em;box-sizing: border-box;text-align: center;}#sk-container-id-1 label.sk-toggleable__label-arrow:before {content: \"▸\";float: left;margin-right: 0.25em;color: #696969;}#sk-container-id-1 label.sk-toggleable__label-arrow:hover:before {color: black;}#sk-container-id-1 div.sk-estimator:hover label.sk-toggleable__label-arrow:before {color: black;}#sk-container-id-1 div.sk-toggleable__content {max-height: 0;max-width: 0;overflow: hidden;text-align: left;background-color: #f0f8ff;}#sk-container-id-1 div.sk-toggleable__content pre {margin: 0.2em;color: black;border-radius: 0.25em;background-color: #f0f8ff;}#sk-container-id-1 input.sk-toggleable__control:checked~div.sk-toggleable__content {max-height: 200px;max-width: 100%;overflow: auto;}#sk-container-id-1 input.sk-toggleable__control:checked~label.sk-toggleable__label-arrow:before {content: \"▾\";}#sk-container-id-1 div.sk-estimator input.sk-toggleable__control:checked~label.sk-toggleable__label {background-color: #d4ebff;}#sk-container-id-1 div.sk-label input.sk-toggleable__control:checked~label.sk-toggleable__label {background-color: #d4ebff;}#sk-container-id-1 input.sk-hidden--visually {border: 0;clip: rect(1px 1px 1px 1px);clip: rect(1px, 1px, 1px, 1px);height: 1px;margin: -1px;overflow: hidden;padding: 0;position: absolute;width: 1px;}#sk-container-id-1 div.sk-estimator {font-family: monospace;background-color: #f0f8ff;border: 1px dotted black;border-radius: 0.25em;box-sizing: border-box;margin-bottom: 0.5em;}#sk-container-id-1 div.sk-estimator:hover {background-color: #d4ebff;}#sk-container-id-1 div.sk-parallel-item::after {content: \"\";width: 100%;border-bottom: 1px solid gray;flex-grow: 1;}#sk-container-id-1 div.sk-label:hover label.sk-toggleable__label {background-color: #d4ebff;}#sk-container-id-1 div.sk-serial::before {content: \"\";position: absolute;border-left: 1px solid gray;box-sizing: border-box;top: 0;bottom: 0;left: 50%;z-index: 0;}#sk-container-id-1 div.sk-serial {display: flex;flex-direction: column;align-items: center;background-color: white;padding-right: 0.2em;padding-left: 0.2em;position: relative;}#sk-container-id-1 div.sk-item {position: relative;z-index: 1;}#sk-container-id-1 div.sk-parallel {display: flex;align-items: stretch;justify-content: center;background-color: white;position: relative;}#sk-container-id-1 div.sk-item::before, #sk-container-id-1 div.sk-parallel-item::before {content: \"\";position: absolute;border-left: 1px solid gray;box-sizing: border-box;top: 0;bottom: 0;left: 50%;z-index: -1;}#sk-container-id-1 div.sk-parallel-item {display: flex;flex-direction: column;z-index: 1;position: relative;background-color: white;}#sk-container-id-1 div.sk-parallel-item:first-child::after {align-self: flex-end;width: 50%;}#sk-container-id-1 div.sk-parallel-item:last-child::after {align-self: flex-start;width: 50%;}#sk-container-id-1 div.sk-parallel-item:only-child::after {width: 0;}#sk-container-id-1 div.sk-dashed-wrapped {border: 1px dashed gray;margin: 0 0.4em 0.5em 0.4em;box-sizing: border-box;padding-bottom: 0.4em;background-color: white;}#sk-container-id-1 div.sk-label label {font-family: monospace;font-weight: bold;display: inline-block;line-height: 1.2em;}#sk-container-id-1 div.sk-label-container {text-align: center;}#sk-container-id-1 div.sk-container {/* jupyter's `normalize.less` sets `[hidden] { display: none; }` but bootstrap.min.css set `[hidden] { display: none !important; }` so we also need the `!important` here to be able to override the default hidden behavior on the sphinx rendered scikit-learn.org. See: https://github.com/scikit-learn/scikit-learn/issues/21755 */display: inline-block !important;position: relative;}#sk-container-id-1 div.sk-text-repr-fallback {display: none;}</style><div id=\"sk-container-id-1\" class=\"sk-top-container\"><div class=\"sk-text-repr-fallback\"><pre>RandomForestRegressor()</pre><b>In a Jupyter environment, please rerun this cell to show the HTML representation or trust the notebook. <br />On GitHub, the HTML representation is unable to render, please try loading this page with nbviewer.org.</b></div><div class=\"sk-container\" hidden><div class=\"sk-item\"><div class=\"sk-estimator sk-toggleable\"><input class=\"sk-toggleable__control sk-hidden--visually\" id=\"sk-estimator-id-1\" type=\"checkbox\" checked><label for=\"sk-estimator-id-1\" class=\"sk-toggleable__label sk-toggleable__label-arrow\">RandomForestRegressor</label><div class=\"sk-toggleable__content\"><pre>RandomForestRegressor()</pre></div></div></div></div></div>"
      ],
      "text/plain": [
       "RandomForestRegressor()"
      ]
     },
     "execution_count": 21,
     "metadata": {},
     "output_type": "execute_result"
    }
   ],
   "source": [
    "from sklearn.ensemble import RandomForestRegressor\n",
    "model = RandomForestRegressor()\n",
    "model.fit(X_train, y_train)"
   ]
  },
  {
   "cell_type": "code",
   "execution_count": 27,
   "id": "215ae530-712b-47d3-83af-3cf6b7f946d2",
   "metadata": {},
   "outputs": [
    {
     "name": "stdout",
     "output_type": "stream",
     "text": [
      "R-squared Score: 0.4738843769186598\n"
     ]
    }
   ],
   "source": [
    "y_test_pred = model.predict(X_test)\n",
    "r_squared = r2_score(y_test, y_test_pred)\n",
    "print(f'R-squared Score: {r_squared}')"
   ]
  },
  {
   "cell_type": "code",
   "execution_count": 28,
   "id": "c478f0c4-402c-4d54-bd30-0c8e5f1e6837",
   "metadata": {},
   "outputs": [
    {
     "name": "stdout",
     "output_type": "stream",
     "text": [
      "R-squared Score: 0.928455022832581\n"
     ]
    }
   ],
   "source": [
    "y_train_pred = model.predict(X_train)\n",
    "r_squared = r2_score(y_train, y_train_pred)\n",
    "print(f'R-squared Score: {r_squared}')"
   ]
  },
  {
   "cell_type": "markdown",
   "id": "c29fe9a7-0756-4b2b-b3a3-844915f449dd",
   "metadata": {},
   "source": [
    "# Graphs"
   ]
  },
  {
   "cell_type": "markdown",
   "id": "9e716942-4836-4acf-ae2e-386bf4882e99",
   "metadata": {},
   "source": [
    "# SCATTER GRAPH"
   ]
  },
  {
   "cell_type": "code",
   "execution_count": 29,
   "id": "9ff154ee-b88d-4029-bbde-df3b8fd7a277",
   "metadata": {},
   "outputs": [],
   "source": [
    "import matplotlib.pyplot as plt "
   ]
  },
  {
   "cell_type": "code",
   "execution_count": 30,
   "id": "5004038c-82ef-4668-a77a-eae6700564e0",
   "metadata": {},
   "outputs": [
    {
     "data": {
      "image/png": "[encoded data removed]",
      "text/plain": [
       "<Figure size 640x480 with 1 Axes>"
      ]
     },
     "metadata": {},
     "output_type": "display_data"
    }
   ],
   "source": [
    "plt.scatter(y_test, y_test_pred)\n",
    "plt.xlabel(\"Actual Values\")\n",
    "plt.ylabel(\"Predicted Values\")\n",
    "plt.title(\"Actual vs Predicted Values\")\n",
    "plt.show()"
   ]
  },
  {
   "cell_type": "markdown",
   "id": "7a63a484-68b0-4552-9fd2-31787561ca76",
   "metadata": {},
   "source": [
    "# linear graph"
   ]
  },
  {
   "cell_type": "code",
   "execution_count": 31,
   "id": "97297701-8381-4ea1-9aec-87726c8bdc0c",
   "metadata": {},
   "outputs": [
    {
     "data": {
      "image/png": "[encoded data removed]",
      "text/plain": [
       "<Figure size 640x480 with 1 Axes>"
      ]
     },
     "metadata": {},
     "output_type": "display_data"
    }
   ],
   "source": [
    "plt.scatter(y_test, y_test_pred, label='Linear Graph', alpha=0.5)  \n",
    "plt.plot([min(y_test), max(y_test)], [min(y_test), max(y_test)], '--', label='Ideal Line', color='red')  \n",
    "plt.ylabel('Predicted Values')\n",
    "plt.title('Linear Graph: Predicted vs Actual Values')\n",
    "plt.legend()\n",
    "plt.show()"
   ]
  },
  {
   "cell_type": "markdown",
   "id": "f231d3d4-7401-4a40-acda-7fad58056a9a",
   "metadata": {},
   "source": [
    "# BAR GRAPH"
   ]
  },
  {
   "cell_type": "code",
   "execution_count": 32,
   "id": "4bb9bf3a-b510-4c7f-93d5-624b69c7c5f5",
   "metadata": {},
   "outputs": [
    {
     "data": {
      "image/png": "[encoded data removed]",
      "text/plain": [
       "<Figure size 640x480 with 1 Axes>"
      ]
     },
     "metadata": {},
     "output_type": "display_data"
    }
   ],
   "source": [
    "labels = ['R-squared', 'Complement']\n",
    "values = [r_squared, 1 - r_squared]\n",
    "\n",
    "plt.bar(labels, values, color=['skyblue', 'lightcoral'])\n",
    "plt.title('R-squared Score on Training Set')\n",
    "plt.ylabel('Score')\n",
    "plt.show()"
   ]
  },
  {
   "cell_type": "markdown",
   "id": "a067721d-b6d2-4558-8ca4-5b311d9a1fa7",
   "metadata": {},
   "source": [
    "# PIE CHART"
   ]
  },
  {
   "cell_type": "code",
   "execution_count": 34,
   "id": "1aa89ec4-221c-452d-912a-75f345bde660",
   "metadata": {},
   "outputs": [
    {
     "data": {
      "image/png": "[encoded data removed]",
      "text/plain": [
       "<Figure size 640x480 with 1 Axes>"
      ]
     },
     "metadata": {},
     "output_type": "display_data"
    }
   ],
   "source": [
    "complement = 1 - r_squared\n",
    "labels = ['R-squared', 'Complement']\n",
    "values = [r_squared, complement]\n",
    "plt.pie(values, labels=labels, autopct='%1.1f%%', colors=['skyblue', 'lightcoral'], startangle=90)\n",
    "plt.title('Distribution of R-squared Score')\n",
    "plt.show()"
   ]
  },
  {
   "cell_type": "code",
   "execution_count": null,
   "id": "f22bf8ca-d324-4af6-bb8d-a3c7f3faf007",
   "metadata": {},
   "outputs": [],
   "source": []
  }
 ],
 "metadata": {
  "kernelspec": {
   "display_name": "Python 3 (ipykernel)",
   "language": "python",
   "name": "python3"
  },
  "language_info": {
   "codemirror_mode": {
    "name": "ipython",
    "version": 3
   },
   "file_extension": ".py",
   "mimetype": "text/x-python",
   "name": "python",
   "nbconvert_exporter": "python",
   "pygments_lexer": "ipython3",
   "version": "3.12.0"
  }
 },
 "nbformat": 4,
 "nbformat_minor": 5
}
